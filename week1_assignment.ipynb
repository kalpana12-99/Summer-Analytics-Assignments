{
  "nbformat": 4,
  "nbformat_minor": 0,
  "metadata": {
    "colab": {
      "provenance": []
    },
    "kernelspec": {
      "name": "python3",
      "display_name": "Python 3"
    },
    "language_info": {
      "name": "python"
    }
  },
  "cells": [
    {
      "cell_type": "code",
      "execution_count": 4,
      "metadata": {
        "id": "87qhro1V0dqX"
      },
      "outputs": [],
      "source": [
        "import pandas as pd\n",
        "\n",
        "df=pd.read_csv('Cars.csv')"
      ]
    },
    {
      "cell_type": "code",
      "source": [
        "print(df.columns)"
      ],
      "metadata": {
        "colab": {
          "base_uri": "https://localhost:8080/"
        },
        "id": "eIyEjPnP1BNf",
        "outputId": "671f4a4f-091c-40d2-c646-310f9f505399"
      },
      "execution_count": 5,
      "outputs": [
        {
          "output_type": "stream",
          "name": "stdout",
          "text": [
            "Index(['mpg', 'cylinders', 'displacement', 'horsepower', 'weight',\n",
            "       'acceleration', 'model_year', 'origin', 'name'],\n",
            "      dtype='object')\n"
          ]
        }
      ]
    },
    {
      "cell_type": "code",
      "source": [
        "df['horsepower'] = pd.to_numeric(df['horsepower'], errors='coerce')"
      ],
      "metadata": {
        "id": "I0M94VmR1Txq"
      },
      "execution_count": 6,
      "outputs": []
    },
    {
      "cell_type": "code",
      "source": [
        "max_hp = df.loc[df['horsepower'].idxmax()]\n",
        "\n",
        "max_hp"
      ],
      "metadata": {
        "colab": {
          "base_uri": "https://localhost:8080/",
          "height": 366
        },
        "id": "KKp-qnwv1gq8",
        "outputId": "c96f45d3-169d-4bf8-9932-528c60cec77f"
      },
      "execution_count": 9,
      "outputs": [
        {
          "output_type": "execute_result",
          "data": {
            "text/plain": [
              "mpg                           16.0\n",
              "cylinders                        8\n",
              "displacement                 400.0\n",
              "horsepower                   230.0\n",
              "weight                        4278\n",
              "acceleration                   9.5\n",
              "model_year                      73\n",
              "origin                         usa\n",
              "name            pontiac grand prix\n",
              "Name: 116, dtype: object"
            ],
            "text/html": [
              "<div>\n",
              "<style scoped>\n",
              "    .dataframe tbody tr th:only-of-type {\n",
              "        vertical-align: middle;\n",
              "    }\n",
              "\n",
              "    .dataframe tbody tr th {\n",
              "        vertical-align: top;\n",
              "    }\n",
              "\n",
              "    .dataframe thead th {\n",
              "        text-align: right;\n",
              "    }\n",
              "</style>\n",
              "<table border=\"1\" class=\"dataframe\">\n",
              "  <thead>\n",
              "    <tr style=\"text-align: right;\">\n",
              "      <th></th>\n",
              "      <th>116</th>\n",
              "    </tr>\n",
              "  </thead>\n",
              "  <tbody>\n",
              "    <tr>\n",
              "      <th>mpg</th>\n",
              "      <td>16.0</td>\n",
              "    </tr>\n",
              "    <tr>\n",
              "      <th>cylinders</th>\n",
              "      <td>8</td>\n",
              "    </tr>\n",
              "    <tr>\n",
              "      <th>displacement</th>\n",
              "      <td>400.0</td>\n",
              "    </tr>\n",
              "    <tr>\n",
              "      <th>horsepower</th>\n",
              "      <td>230.0</td>\n",
              "    </tr>\n",
              "    <tr>\n",
              "      <th>weight</th>\n",
              "      <td>4278</td>\n",
              "    </tr>\n",
              "    <tr>\n",
              "      <th>acceleration</th>\n",
              "      <td>9.5</td>\n",
              "    </tr>\n",
              "    <tr>\n",
              "      <th>model_year</th>\n",
              "      <td>73</td>\n",
              "    </tr>\n",
              "    <tr>\n",
              "      <th>origin</th>\n",
              "      <td>usa</td>\n",
              "    </tr>\n",
              "    <tr>\n",
              "      <th>name</th>\n",
              "      <td>pontiac grand prix</td>\n",
              "    </tr>\n",
              "  </tbody>\n",
              "</table>\n",
              "</div><br><label><b>dtype:</b> object</label>"
            ]
          },
          "metadata": {},
          "execution_count": 9
        }
      ]
    },
    {
      "cell_type": "code",
      "source": [
        "df['mpg'] = pd.to_numeric(df['mpg'], errors='coerce')\n",
        "\n",
        "count = (df['mpg'] >= 35).sum()\n",
        "\n",
        "print(count)"
      ],
      "metadata": {
        "colab": {
          "base_uri": "https://localhost:8080/"
        },
        "id": "FRUa4mNo2BTr",
        "outputId": "8882c58d-0d58-4c79-eaf5-4ecef9c24bb8"
      },
      "execution_count": 11,
      "outputs": [
        {
          "output_type": "stream",
          "name": "stdout",
          "text": [
            "36\n"
          ]
        }
      ]
    },
    {
      "cell_type": "code",
      "source": [
        "df['weight'] = pd.to_numeric(df['weight'], errors='coerce')\n",
        "\n",
        "filtered = df[(df['horsepower'] > 100) & (df['weight'] < 3000)]\n",
        "#filters row meeting the conditions\n",
        "\n",
        "origin = filtered['origin'].mode()[0]\n",
        "\n",
        "print(origin)"
      ],
      "metadata": {
        "colab": {
          "base_uri": "https://localhost:8080/"
        },
        "id": "vzrLxDoF2wUV",
        "outputId": "46cb85f1-25a5-47c7-b66a-2b4f90e1eeba"
      },
      "execution_count": 14,
      "outputs": [
        {
          "output_type": "stream",
          "name": "stdout",
          "text": [
            "usa\n"
          ]
        }
      ]
    },
    {
      "cell_type": "code",
      "source": [
        "df['acceleration'] =pd.to_numeric(df['acceleration'], errors='coerce')\n",
        "\n",
        "japan_cars = df[df['origin'] == 'japan']\n",
        "\n",
        "mean = round(japan_cars['acceleration'].mean()  , 2)\n",
        "mean"
      ],
      "metadata": {
        "colab": {
          "base_uri": "https://localhost:8080/"
        },
        "id": "nGURo9jn3uG-",
        "outputId": "c71dc1b3-759d-4c0e-cfef-fcfeee7a024c"
      },
      "execution_count": 16,
      "outputs": [
        {
          "output_type": "execute_result",
          "data": {
            "text/plain": [
              "np.float64(16.17)"
            ]
          },
          "metadata": {},
          "execution_count": 16
        }
      ]
    },
    {
      "cell_type": "code",
      "source": [
        "df['model_year'] = pd.to_numeric(df['model_year'], errors='coerce')\n",
        "df['mpg'] = pd.to_numeric(df['mpg'], errors='coerce')\n",
        "\n",
        "\n",
        "yearly_mpg = df.groupby('model_year')['mpg'].mean()\n",
        "\n",
        "\n",
        "year_highest_mpg = yearly_mpg.idxmax()\n",
        "highest_avg_mpg = yearly_mpg.max()\n",
        "\n",
        "print(f\"Year with highest average mpg: {year_highest_mpg} (Average mpg: {highest_avg_mpg:.2f})\")"
      ],
      "metadata": {
        "colab": {
          "base_uri": "https://localhost:8080/"
        },
        "id": "fHmAC-hI4oKo",
        "outputId": "56b470db-18ca-4663-fea2-9502f158b02a"
      },
      "execution_count": 18,
      "outputs": [
        {
          "output_type": "stream",
          "name": "stdout",
          "text": [
            "Year with highest average mpg: 80 (Average mpg: 33.70)\n"
          ]
        }
      ]
    }
  ]
}